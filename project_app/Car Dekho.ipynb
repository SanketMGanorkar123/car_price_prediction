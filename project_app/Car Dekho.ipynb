{
 "cells": [
  {
   "cell_type": "code",
   "execution_count": 1,
   "id": "1bb27a52",
   "metadata": {},
   "outputs": [],
   "source": [
    "import pandas as pd\n",
    "import numpy as np\n",
    "import seaborn as sns\n",
    "import matplotlib.pyplot as plt\n",
    "import datetime\n",
    "from scipy.stats import norm, skew\n",
    "\n",
    "\n",
    "from sklearn.preprocessing import LabelEncoder\n",
    "from sklearn.preprocessing import MinMaxScaler, RobustScaler, StandardScaler\n",
    "from sklearn.model_selection import train_test_split\n",
    "from sklearn.linear_model import LinearRegression\n",
    "from sklearn.metrics import mean_squared_error, mean_absolute_error, r2_score\n",
    "from sklearn import model_selection\n",
    "\n",
    "\n",
    "from sklearn.ensemble import RandomForestRegressor, GradientBoostingRegressor\n",
    "from sklearn.linear_model import Ridge, RidgeCV, Lasso, LassoCV\n",
    "\n",
    "\n",
    "# to ignore warnings\n",
    "import warnings\n",
    "warnings.filterwarnings(\"ignore\")\n",
    "\n",
    "#to see model hyperparameters\n",
    "from sklearn import set_config\n",
    "set_config(print_changed_only = False)\n",
    "\n",
    "# to show all columns\n",
    "pd.set_option('display.max_columns', None)\n",
    "pd.set_option('display.width', None)"
   ]
  },
  {
   "cell_type": "code",
   "execution_count": 2,
   "id": "73415533",
   "metadata": {},
   "outputs": [],
   "source": [
    "# !conda env list\n",
    "# import sklearn\n",
    "# sklearn.__version__\n",
    "# !conda activate car_price_env"
   ]
  },
  {
   "cell_type": "code",
   "execution_count": 68,
   "id": "5e50e7b0",
   "metadata": {},
   "outputs": [
    {
     "data": {
      "text/plain": [
       "'1.3.2'"
      ]
     },
     "execution_count": 68,
     "metadata": {},
     "output_type": "execute_result"
    }
   ],
   "source": [
    "import sklearn\n",
    "sklearn.__version__"
   ]
  },
  {
   "cell_type": "code",
   "execution_count": 69,
   "id": "f55e98ea",
   "metadata": {},
   "outputs": [
    {
     "name": "stdout",
     "output_type": "stream",
     "text": [
      "Python 3.9.12\n"
     ]
    }
   ],
   "source": [
    "!python --version"
   ]
  },
  {
   "cell_type": "code",
   "execution_count": 3,
   "id": "e0cf2f7a",
   "metadata": {
    "scrolled": true
   },
   "outputs": [],
   "source": [
    "df  = pd.read_csv(\"CAR DETAILS FROM CAR DEKHO.csv\")"
   ]
  },
  {
   "cell_type": "code",
   "execution_count": 4,
   "id": "c502ccac",
   "metadata": {
    "scrolled": true
   },
   "outputs": [
    {
     "data": {
      "text/plain": [
       "0                 Maruti 800 AC\n",
       "1      Maruti Wagon R LXI Minor\n",
       "2          Hyundai Verna 1.6 SX\n",
       "3        Datsun RediGO T Option\n",
       "4         Honda Amaze VX i-DTEC\n",
       "5          Maruti Alto LX BSIII\n",
       "6     Hyundai Xcent 1.2 Kappa S\n",
       "7      Tata Indigo Grand Petrol\n",
       "8      Hyundai Creta 1.6 VTVT S\n",
       "9      Maruti Celerio Green VXI\n",
       "10      Chevrolet Sail 1.2 Base\n",
       "Name: name, dtype: object"
      ]
     },
     "execution_count": 4,
     "metadata": {},
     "output_type": "execute_result"
    }
   ],
   "source": [
    "df['name'].loc[:10]"
   ]
  },
  {
   "cell_type": "code",
   "execution_count": 5,
   "id": "af11b247",
   "metadata": {},
   "outputs": [
    {
     "data": {
      "text/plain": [
       "0        Maruti\n",
       "1        Maruti\n",
       "2       Hyundai\n",
       "3        Datsun\n",
       "4         Honda\n",
       "         ...   \n",
       "4335    Hyundai\n",
       "4336    Hyundai\n",
       "4337     Maruti\n",
       "4338    Hyundai\n",
       "4339    Renault\n",
       "Name: car_brand_name, Length: 4340, dtype: category\n",
       "Categories (29, object): ['Ambassador', 'Audi', 'BMW', 'Chevrolet', ..., 'Tata', 'Toyota', 'Volkswagen', 'Volvo']"
      ]
     },
     "execution_count": 5,
     "metadata": {},
     "output_type": "execute_result"
    }
   ],
   "source": [
    "df['car_brand_name'] = df['name'].str.split(' ', 1).str[0].astype('category')\n",
    "# df['model1'] = df['name'].str.split(' ', 1).str[1]\n",
    "# df['model1'] \n",
    "df['car_brand_name']"
   ]
  },
  {
   "cell_type": "code",
   "execution_count": 6,
   "id": "2e882862",
   "metadata": {},
   "outputs": [
    {
     "name": "stdout",
     "output_type": "stream",
     "text": [
      "['Maruti', 'Hyundai', 'Datsun', 'Honda', 'Tata', 'Chevrolet', 'Toyota', 'Jaguar', 'Mercedes-Benz', 'Audi', 'Skoda', 'Jeep', 'BMW', 'Mahindra', 'Ford', 'Nissan', 'Renault', 'Fiat', 'Volkswagen', 'Volvo', 'Mitsubishi', 'Land', 'Daewoo', 'MG', 'Force', 'Isuzu', 'OpelCorsa', 'Ambassador', 'Kia']\n"
     ]
    }
   ],
   "source": [
    "brand_uniques = df['car_brand_name'].unique().tolist()\n",
    "print(brand_uniques)"
   ]
  },
  {
   "cell_type": "code",
   "execution_count": 7,
   "id": "d53e9661",
   "metadata": {
    "scrolled": true
   },
   "outputs": [],
   "source": [
    "# df['model'] = df['model1'].str.extract('([A-Za-z]+)', expand=False)\n",
    "# unique_models = df['model'].unique().tolist()\n",
    "# print(unique_models)\n",
    "# df = df.drop('model1' , axis=1)"
   ]
  },
  {
   "cell_type": "code",
   "execution_count": 8,
   "id": "78de0f07",
   "metadata": {},
   "outputs": [],
   "source": [
    "df = df.drop('name' , axis=1)"
   ]
  },
  {
   "cell_type": "code",
   "execution_count": 9,
   "id": "a5c5ff1a",
   "metadata": {
    "scrolled": false
   },
   "outputs": [
    {
     "data": {
      "text/html": [
       "<div>\n",
       "<style scoped>\n",
       "    .dataframe tbody tr th:only-of-type {\n",
       "        vertical-align: middle;\n",
       "    }\n",
       "\n",
       "    .dataframe tbody tr th {\n",
       "        vertical-align: top;\n",
       "    }\n",
       "\n",
       "    .dataframe thead th {\n",
       "        text-align: right;\n",
       "    }\n",
       "</style>\n",
       "<table border=\"1\" class=\"dataframe\">\n",
       "  <thead>\n",
       "    <tr style=\"text-align: right;\">\n",
       "      <th></th>\n",
       "      <th>year</th>\n",
       "      <th>selling_price</th>\n",
       "      <th>km_driven</th>\n",
       "      <th>fuel</th>\n",
       "      <th>seller_type</th>\n",
       "      <th>transmission</th>\n",
       "      <th>owner</th>\n",
       "      <th>car_brand_name</th>\n",
       "    </tr>\n",
       "  </thead>\n",
       "  <tbody>\n",
       "    <tr>\n",
       "      <th>0</th>\n",
       "      <td>2007</td>\n",
       "      <td>60000</td>\n",
       "      <td>70000</td>\n",
       "      <td>Petrol</td>\n",
       "      <td>Individual</td>\n",
       "      <td>Manual</td>\n",
       "      <td>First Owner</td>\n",
       "      <td>Maruti</td>\n",
       "    </tr>\n",
       "    <tr>\n",
       "      <th>1</th>\n",
       "      <td>2007</td>\n",
       "      <td>135000</td>\n",
       "      <td>50000</td>\n",
       "      <td>Petrol</td>\n",
       "      <td>Individual</td>\n",
       "      <td>Manual</td>\n",
       "      <td>First Owner</td>\n",
       "      <td>Maruti</td>\n",
       "    </tr>\n",
       "    <tr>\n",
       "      <th>2</th>\n",
       "      <td>2012</td>\n",
       "      <td>600000</td>\n",
       "      <td>100000</td>\n",
       "      <td>Diesel</td>\n",
       "      <td>Individual</td>\n",
       "      <td>Manual</td>\n",
       "      <td>First Owner</td>\n",
       "      <td>Hyundai</td>\n",
       "    </tr>\n",
       "    <tr>\n",
       "      <th>3</th>\n",
       "      <td>2017</td>\n",
       "      <td>250000</td>\n",
       "      <td>46000</td>\n",
       "      <td>Petrol</td>\n",
       "      <td>Individual</td>\n",
       "      <td>Manual</td>\n",
       "      <td>First Owner</td>\n",
       "      <td>Datsun</td>\n",
       "    </tr>\n",
       "    <tr>\n",
       "      <th>4</th>\n",
       "      <td>2014</td>\n",
       "      <td>450000</td>\n",
       "      <td>141000</td>\n",
       "      <td>Diesel</td>\n",
       "      <td>Individual</td>\n",
       "      <td>Manual</td>\n",
       "      <td>Second Owner</td>\n",
       "      <td>Honda</td>\n",
       "    </tr>\n",
       "    <tr>\n",
       "      <th>...</th>\n",
       "      <td>...</td>\n",
       "      <td>...</td>\n",
       "      <td>...</td>\n",
       "      <td>...</td>\n",
       "      <td>...</td>\n",
       "      <td>...</td>\n",
       "      <td>...</td>\n",
       "      <td>...</td>\n",
       "    </tr>\n",
       "    <tr>\n",
       "      <th>4335</th>\n",
       "      <td>2014</td>\n",
       "      <td>409999</td>\n",
       "      <td>80000</td>\n",
       "      <td>Diesel</td>\n",
       "      <td>Individual</td>\n",
       "      <td>Manual</td>\n",
       "      <td>Second Owner</td>\n",
       "      <td>Hyundai</td>\n",
       "    </tr>\n",
       "    <tr>\n",
       "      <th>4336</th>\n",
       "      <td>2014</td>\n",
       "      <td>409999</td>\n",
       "      <td>80000</td>\n",
       "      <td>Diesel</td>\n",
       "      <td>Individual</td>\n",
       "      <td>Manual</td>\n",
       "      <td>Second Owner</td>\n",
       "      <td>Hyundai</td>\n",
       "    </tr>\n",
       "    <tr>\n",
       "      <th>4337</th>\n",
       "      <td>2009</td>\n",
       "      <td>110000</td>\n",
       "      <td>83000</td>\n",
       "      <td>Petrol</td>\n",
       "      <td>Individual</td>\n",
       "      <td>Manual</td>\n",
       "      <td>Second Owner</td>\n",
       "      <td>Maruti</td>\n",
       "    </tr>\n",
       "    <tr>\n",
       "      <th>4338</th>\n",
       "      <td>2016</td>\n",
       "      <td>865000</td>\n",
       "      <td>90000</td>\n",
       "      <td>Diesel</td>\n",
       "      <td>Individual</td>\n",
       "      <td>Manual</td>\n",
       "      <td>First Owner</td>\n",
       "      <td>Hyundai</td>\n",
       "    </tr>\n",
       "    <tr>\n",
       "      <th>4339</th>\n",
       "      <td>2016</td>\n",
       "      <td>225000</td>\n",
       "      <td>40000</td>\n",
       "      <td>Petrol</td>\n",
       "      <td>Individual</td>\n",
       "      <td>Manual</td>\n",
       "      <td>First Owner</td>\n",
       "      <td>Renault</td>\n",
       "    </tr>\n",
       "  </tbody>\n",
       "</table>\n",
       "<p>4340 rows × 8 columns</p>\n",
       "</div>"
      ],
      "text/plain": [
       "      year  selling_price  km_driven    fuel seller_type transmission  \\\n",
       "0     2007          60000      70000  Petrol  Individual       Manual   \n",
       "1     2007         135000      50000  Petrol  Individual       Manual   \n",
       "2     2012         600000     100000  Diesel  Individual       Manual   \n",
       "3     2017         250000      46000  Petrol  Individual       Manual   \n",
       "4     2014         450000     141000  Diesel  Individual       Manual   \n",
       "...    ...            ...        ...     ...         ...          ...   \n",
       "4335  2014         409999      80000  Diesel  Individual       Manual   \n",
       "4336  2014         409999      80000  Diesel  Individual       Manual   \n",
       "4337  2009         110000      83000  Petrol  Individual       Manual   \n",
       "4338  2016         865000      90000  Diesel  Individual       Manual   \n",
       "4339  2016         225000      40000  Petrol  Individual       Manual   \n",
       "\n",
       "             owner car_brand_name  \n",
       "0      First Owner         Maruti  \n",
       "1      First Owner         Maruti  \n",
       "2      First Owner        Hyundai  \n",
       "3      First Owner         Datsun  \n",
       "4     Second Owner          Honda  \n",
       "...            ...            ...  \n",
       "4335  Second Owner        Hyundai  \n",
       "4336  Second Owner        Hyundai  \n",
       "4337  Second Owner         Maruti  \n",
       "4338   First Owner        Hyundai  \n",
       "4339   First Owner        Renault  \n",
       "\n",
       "[4340 rows x 8 columns]"
      ]
     },
     "execution_count": 9,
     "metadata": {},
     "output_type": "execute_result"
    }
   ],
   "source": [
    "df"
   ]
  },
  {
   "cell_type": "markdown",
   "id": "4672220f",
   "metadata": {},
   "source": [
    "# EDA"
   ]
  },
  {
   "cell_type": "code",
   "execution_count": 10,
   "id": "e5f2eed2",
   "metadata": {
    "scrolled": true
   },
   "outputs": [
    {
     "name": "stdout",
     "output_type": "stream",
     "text": [
      "<class 'pandas.core.frame.DataFrame'>\n",
      "RangeIndex: 4340 entries, 0 to 4339\n",
      "Data columns (total 8 columns):\n",
      " #   Column          Non-Null Count  Dtype   \n",
      "---  ------          --------------  -----   \n",
      " 0   year            4340 non-null   int64   \n",
      " 1   selling_price   4340 non-null   int64   \n",
      " 2   km_driven       4340 non-null   int64   \n",
      " 3   fuel            4340 non-null   object  \n",
      " 4   seller_type     4340 non-null   object  \n",
      " 5   transmission    4340 non-null   object  \n",
      " 6   owner           4340 non-null   object  \n",
      " 7   car_brand_name  4340 non-null   category\n",
      "dtypes: category(1), int64(3), object(4)\n",
      "memory usage: 243.0+ KB\n"
     ]
    }
   ],
   "source": [
    "df.info()"
   ]
  },
  {
   "cell_type": "code",
   "execution_count": 11,
   "id": "3357a46f",
   "metadata": {
    "scrolled": true
   },
   "outputs": [
    {
     "data": {
      "text/html": [
       "<div>\n",
       "<style scoped>\n",
       "    .dataframe tbody tr th:only-of-type {\n",
       "        vertical-align: middle;\n",
       "    }\n",
       "\n",
       "    .dataframe tbody tr th {\n",
       "        vertical-align: top;\n",
       "    }\n",
       "\n",
       "    .dataframe thead th {\n",
       "        text-align: right;\n",
       "    }\n",
       "</style>\n",
       "<table border=\"1\" class=\"dataframe\">\n",
       "  <thead>\n",
       "    <tr style=\"text-align: right;\">\n",
       "      <th></th>\n",
       "      <th>year</th>\n",
       "      <th>selling_price</th>\n",
       "      <th>km_driven</th>\n",
       "      <th>fuel</th>\n",
       "      <th>seller_type</th>\n",
       "      <th>transmission</th>\n",
       "      <th>owner</th>\n",
       "      <th>car_brand_name</th>\n",
       "    </tr>\n",
       "  </thead>\n",
       "  <tbody>\n",
       "    <tr>\n",
       "      <th>0</th>\n",
       "      <td>2007</td>\n",
       "      <td>60000</td>\n",
       "      <td>70000</td>\n",
       "      <td>Petrol</td>\n",
       "      <td>Individual</td>\n",
       "      <td>Manual</td>\n",
       "      <td>First Owner</td>\n",
       "      <td>Maruti</td>\n",
       "    </tr>\n",
       "    <tr>\n",
       "      <th>1</th>\n",
       "      <td>2007</td>\n",
       "      <td>135000</td>\n",
       "      <td>50000</td>\n",
       "      <td>Petrol</td>\n",
       "      <td>Individual</td>\n",
       "      <td>Manual</td>\n",
       "      <td>First Owner</td>\n",
       "      <td>Maruti</td>\n",
       "    </tr>\n",
       "    <tr>\n",
       "      <th>2</th>\n",
       "      <td>2012</td>\n",
       "      <td>600000</td>\n",
       "      <td>100000</td>\n",
       "      <td>Diesel</td>\n",
       "      <td>Individual</td>\n",
       "      <td>Manual</td>\n",
       "      <td>First Owner</td>\n",
       "      <td>Hyundai</td>\n",
       "    </tr>\n",
       "    <tr>\n",
       "      <th>3</th>\n",
       "      <td>2017</td>\n",
       "      <td>250000</td>\n",
       "      <td>46000</td>\n",
       "      <td>Petrol</td>\n",
       "      <td>Individual</td>\n",
       "      <td>Manual</td>\n",
       "      <td>First Owner</td>\n",
       "      <td>Datsun</td>\n",
       "    </tr>\n",
       "    <tr>\n",
       "      <th>4</th>\n",
       "      <td>2014</td>\n",
       "      <td>450000</td>\n",
       "      <td>141000</td>\n",
       "      <td>Diesel</td>\n",
       "      <td>Individual</td>\n",
       "      <td>Manual</td>\n",
       "      <td>Second Owner</td>\n",
       "      <td>Honda</td>\n",
       "    </tr>\n",
       "  </tbody>\n",
       "</table>\n",
       "</div>"
      ],
      "text/plain": [
       "   year  selling_price  km_driven    fuel seller_type transmission  \\\n",
       "0  2007          60000      70000  Petrol  Individual       Manual   \n",
       "1  2007         135000      50000  Petrol  Individual       Manual   \n",
       "2  2012         600000     100000  Diesel  Individual       Manual   \n",
       "3  2017         250000      46000  Petrol  Individual       Manual   \n",
       "4  2014         450000     141000  Diesel  Individual       Manual   \n",
       "\n",
       "          owner car_brand_name  \n",
       "0   First Owner         Maruti  \n",
       "1   First Owner         Maruti  \n",
       "2   First Owner        Hyundai  \n",
       "3   First Owner         Datsun  \n",
       "4  Second Owner          Honda  "
      ]
     },
     "execution_count": 11,
     "metadata": {},
     "output_type": "execute_result"
    }
   ],
   "source": [
    "df.head()"
   ]
  },
  {
   "cell_type": "code",
   "execution_count": 12,
   "id": "63f9fa4a",
   "metadata": {},
   "outputs": [
    {
     "data": {
      "text/plain": [
       "year              0\n",
       "selling_price     0\n",
       "km_driven         0\n",
       "fuel              0\n",
       "seller_type       0\n",
       "transmission      0\n",
       "owner             0\n",
       "car_brand_name    0\n",
       "dtype: int64"
      ]
     },
     "execution_count": 12,
     "metadata": {},
     "output_type": "execute_result"
    }
   ],
   "source": [
    "# check whether there are null values in the dataset\n",
    "df.isnull().sum()"
   ]
  },
  {
   "cell_type": "code",
   "execution_count": 13,
   "id": "cfa7a09a",
   "metadata": {},
   "outputs": [
    {
     "data": {
      "text/html": [
       "<style type=\"text/css\">\n",
       "#T_2a84d_row0_col0, #T_2a84d_row7_col1, #T_2a84d_row7_col2 {\n",
       "  background-color: #fde725;\n",
       "  color: #000000;\n",
       "}\n",
       "#T_2a84d_row0_col1, #T_2a84d_row2_col0, #T_2a84d_row3_col1, #T_2a84d_row3_col2 {\n",
       "  background-color: #440154;\n",
       "  color: #f1f1f1;\n",
       "}\n",
       "#T_2a84d_row0_col2 {\n",
       "  background-color: #440256;\n",
       "  color: #f1f1f1;\n",
       "}\n",
       "#T_2a84d_row1_col0, #T_2a84d_row4_col0, #T_2a84d_row5_col0, #T_2a84d_row6_col0 {\n",
       "  background-color: #24878e;\n",
       "  color: #f1f1f1;\n",
       "}\n",
       "#T_2a84d_row1_col1, #T_2a84d_row2_col2 {\n",
       "  background-color: #481668;\n",
       "  color: #f1f1f1;\n",
       "}\n",
       "#T_2a84d_row1_col2 {\n",
       "  background-color: #481f70;\n",
       "  color: #f1f1f1;\n",
       "}\n",
       "#T_2a84d_row2_col1 {\n",
       "  background-color: #48186a;\n",
       "  color: #f1f1f1;\n",
       "}\n",
       "#T_2a84d_row3_col0 {\n",
       "  background-color: #24868e;\n",
       "  color: #f1f1f1;\n",
       "}\n",
       "#T_2a84d_row4_col1 {\n",
       "  background-color: #46085c;\n",
       "  color: #f1f1f1;\n",
       "}\n",
       "#T_2a84d_row4_col2 {\n",
       "  background-color: #471164;\n",
       "  color: #f1f1f1;\n",
       "}\n",
       "#T_2a84d_row5_col1 {\n",
       "  background-color: #470e61;\n",
       "  color: #f1f1f1;\n",
       "}\n",
       "#T_2a84d_row5_col2 {\n",
       "  background-color: #481c6e;\n",
       "  color: #f1f1f1;\n",
       "}\n",
       "#T_2a84d_row6_col1 {\n",
       "  background-color: #481a6c;\n",
       "  color: #f1f1f1;\n",
       "}\n",
       "#T_2a84d_row6_col2 {\n",
       "  background-color: #482878;\n",
       "  color: #f1f1f1;\n",
       "}\n",
       "#T_2a84d_row7_col0 {\n",
       "  background-color: #23888e;\n",
       "  color: #f1f1f1;\n",
       "}\n",
       "</style>\n",
       "<table id=\"T_2a84d\">\n",
       "  <thead>\n",
       "    <tr>\n",
       "      <th class=\"blank level0\" >&nbsp;</th>\n",
       "      <th id=\"T_2a84d_level0_col0\" class=\"col_heading level0 col0\" >year</th>\n",
       "      <th id=\"T_2a84d_level0_col1\" class=\"col_heading level0 col1\" >selling_price</th>\n",
       "      <th id=\"T_2a84d_level0_col2\" class=\"col_heading level0 col2\" >km_driven</th>\n",
       "    </tr>\n",
       "  </thead>\n",
       "  <tbody>\n",
       "    <tr>\n",
       "      <th id=\"T_2a84d_level0_row0\" class=\"row_heading level0 row0\" >count</th>\n",
       "      <td id=\"T_2a84d_row0_col0\" class=\"data row0 col0\" >4340.000000</td>\n",
       "      <td id=\"T_2a84d_row0_col1\" class=\"data row0 col1\" >4340.000000</td>\n",
       "      <td id=\"T_2a84d_row0_col2\" class=\"data row0 col2\" >4340.000000</td>\n",
       "    </tr>\n",
       "    <tr>\n",
       "      <th id=\"T_2a84d_level0_row1\" class=\"row_heading level0 row1\" >mean</th>\n",
       "      <td id=\"T_2a84d_row1_col0\" class=\"data row1 col0\" >2013.090783</td>\n",
       "      <td id=\"T_2a84d_row1_col1\" class=\"data row1 col1\" >504127.311751</td>\n",
       "      <td id=\"T_2a84d_row1_col2\" class=\"data row1 col2\" >66215.777419</td>\n",
       "    </tr>\n",
       "    <tr>\n",
       "      <th id=\"T_2a84d_level0_row2\" class=\"row_heading level0 row2\" >std</th>\n",
       "      <td id=\"T_2a84d_row2_col0\" class=\"data row2 col0\" >4.215344</td>\n",
       "      <td id=\"T_2a84d_row2_col1\" class=\"data row2 col1\" >578548.736139</td>\n",
       "      <td id=\"T_2a84d_row2_col2\" class=\"data row2 col2\" >46644.102194</td>\n",
       "    </tr>\n",
       "    <tr>\n",
       "      <th id=\"T_2a84d_level0_row3\" class=\"row_heading level0 row3\" >min</th>\n",
       "      <td id=\"T_2a84d_row3_col0\" class=\"data row3 col0\" >1992.000000</td>\n",
       "      <td id=\"T_2a84d_row3_col1\" class=\"data row3 col1\" >20000.000000</td>\n",
       "      <td id=\"T_2a84d_row3_col2\" class=\"data row3 col2\" >1.000000</td>\n",
       "    </tr>\n",
       "    <tr>\n",
       "      <th id=\"T_2a84d_level0_row4\" class=\"row_heading level0 row4\" >25%</th>\n",
       "      <td id=\"T_2a84d_row4_col0\" class=\"data row4 col0\" >2011.000000</td>\n",
       "      <td id=\"T_2a84d_row4_col1\" class=\"data row4 col1\" >208749.750000</td>\n",
       "      <td id=\"T_2a84d_row4_col2\" class=\"data row4 col2\" >35000.000000</td>\n",
       "    </tr>\n",
       "    <tr>\n",
       "      <th id=\"T_2a84d_level0_row5\" class=\"row_heading level0 row5\" >50%</th>\n",
       "      <td id=\"T_2a84d_row5_col0\" class=\"data row5 col0\" >2014.000000</td>\n",
       "      <td id=\"T_2a84d_row5_col1\" class=\"data row5 col1\" >350000.000000</td>\n",
       "      <td id=\"T_2a84d_row5_col2\" class=\"data row5 col2\" >60000.000000</td>\n",
       "    </tr>\n",
       "    <tr>\n",
       "      <th id=\"T_2a84d_level0_row6\" class=\"row_heading level0 row6\" >75%</th>\n",
       "      <td id=\"T_2a84d_row6_col0\" class=\"data row6 col0\" >2016.000000</td>\n",
       "      <td id=\"T_2a84d_row6_col1\" class=\"data row6 col1\" >600000.000000</td>\n",
       "      <td id=\"T_2a84d_row6_col2\" class=\"data row6 col2\" >90000.000000</td>\n",
       "    </tr>\n",
       "    <tr>\n",
       "      <th id=\"T_2a84d_level0_row7\" class=\"row_heading level0 row7\" >max</th>\n",
       "      <td id=\"T_2a84d_row7_col0\" class=\"data row7 col0\" >2020.000000</td>\n",
       "      <td id=\"T_2a84d_row7_col1\" class=\"data row7 col1\" >8900000.000000</td>\n",
       "      <td id=\"T_2a84d_row7_col2\" class=\"data row7 col2\" >806599.000000</td>\n",
       "    </tr>\n",
       "  </tbody>\n",
       "</table>\n"
      ],
      "text/plain": [
       "<pandas.io.formats.style.Styler at 0x24ba90fdeb0>"
      ]
     },
     "execution_count": 13,
     "metadata": {},
     "output_type": "execute_result"
    }
   ],
   "source": [
    "df.describe().style.background_gradient(cmap = \"viridis\")"
   ]
  },
  {
   "cell_type": "code",
   "execution_count": 14,
   "id": "ab4cd363",
   "metadata": {
    "scrolled": true
   },
   "outputs": [
    {
     "data": {
      "text/html": [
       "<div>\n",
       "<style scoped>\n",
       "    .dataframe tbody tr th:only-of-type {\n",
       "        vertical-align: middle;\n",
       "    }\n",
       "\n",
       "    .dataframe tbody tr th {\n",
       "        vertical-align: top;\n",
       "    }\n",
       "\n",
       "    .dataframe thead th {\n",
       "        text-align: right;\n",
       "    }\n",
       "</style>\n",
       "<table border=\"1\" class=\"dataframe\">\n",
       "  <thead>\n",
       "    <tr style=\"text-align: right;\">\n",
       "      <th></th>\n",
       "      <th>count</th>\n",
       "      <th>unique</th>\n",
       "      <th>top</th>\n",
       "      <th>freq</th>\n",
       "    </tr>\n",
       "  </thead>\n",
       "  <tbody>\n",
       "    <tr>\n",
       "      <th>car_brand_name</th>\n",
       "      <td>4340</td>\n",
       "      <td>29</td>\n",
       "      <td>Maruti</td>\n",
       "      <td>1280</td>\n",
       "    </tr>\n",
       "  </tbody>\n",
       "</table>\n",
       "</div>"
      ],
      "text/plain": [
       "               count unique     top  freq\n",
       "car_brand_name  4340     29  Maruti  1280"
      ]
     },
     "execution_count": 14,
     "metadata": {},
     "output_type": "execute_result"
    }
   ],
   "source": [
    "df.describe(include = \"category\").T"
   ]
  },
  {
   "cell_type": "code",
   "execution_count": 15,
   "id": "f739430f",
   "metadata": {
    "scrolled": true
   },
   "outputs": [
    {
     "name": "stdout",
     "output_type": "stream",
     "text": [
      "Class frequencies of 'transmission' variable: \n",
      "\n",
      " Manual       3892\n",
      "Automatic     448\n",
      "Name: transmission, dtype: int64\n",
      "_____________________________________________________________________________________\n",
      "Class frequencies of 'seller_type' variable: \n",
      "\n",
      " Individual          3244\n",
      "Dealer               994\n",
      "Trustmark Dealer     102\n",
      "Name: seller_type, dtype: int64\n",
      "_____________________________________________________________________________________\n",
      "Class frequencies of 'owner' variable: \n",
      "\n",
      " First Owner             2832\n",
      "Second Owner            1106\n",
      "Third Owner              304\n",
      "Fourth & Above Owner      81\n",
      "Test Drive Car            17\n",
      "Name: owner, dtype: int64\n",
      "_____________________________________________________________________________________\n",
      "Class frequencies of 'car_brand_name' variable: \n",
      "\n",
      " Maruti           1280\n",
      "Hyundai           821\n",
      "Mahindra          365\n",
      "Tata              361\n",
      "Honda             252\n",
      "Ford              238\n",
      "Toyota            206\n",
      "Chevrolet         188\n",
      "Renault           146\n",
      "Volkswagen        107\n",
      "Skoda              68\n",
      "Nissan             64\n",
      "Audi               60\n",
      "BMW                39\n",
      "Fiat               37\n",
      "Datsun             37\n",
      "Mercedes-Benz      35\n",
      "Mitsubishi          6\n",
      "Jaguar              6\n",
      "Land                5\n",
      "Ambassador          4\n",
      "Volvo               4\n",
      "Jeep                3\n",
      "OpelCorsa           2\n",
      "MG                  2\n",
      "Isuzu               1\n",
      "Force               1\n",
      "Daewoo              1\n",
      "Kia                 1\n",
      "Name: car_brand_name, dtype: int64\n",
      "_____________________________________________________________________________________\n"
     ]
    }
   ],
   "source": [
    "#get class frequencies of some variables\n",
    "\n",
    "print(\"Class frequencies of 'transmission' variable: \\n\\n\", df[\"transmission\"].value_counts())\n",
    "\n",
    "print(\"_____________________________________________________________________________________\")\n",
    "\n",
    "print(\"Class frequencies of 'seller_type' variable: \\n\\n\", df[\"seller_type\"].value_counts())\n",
    "\n",
    "print(\"_____________________________________________________________________________________\")\n",
    "\n",
    "print(\"Class frequencies of 'owner' variable: \\n\\n\", df[\"owner\"].value_counts())\n",
    "\n",
    "print(\"_____________________________________________________________________________________\")\n",
    "\n",
    "print(\"Class frequencies of 'car_brand_name' variable: \\n\\n\", df[\"car_brand_name\"].value_counts())\n",
    "print(\"_____________________________________________________________________________________\")\n",
    "# print(\"Class frequencies of 'car_model_name' variable: \\n\\n\", df[\"model\"].value_counts())\n"
   ]
  },
  {
   "cell_type": "markdown",
   "id": "377579b2",
   "metadata": {},
   "source": [
    "# Univariate Analysis:\n",
    "\n",
    ">>>Visualize the distribution of numeric variables like 'year', 'km_driven', and 'selling_price' using histograms or box plots."
   ]
  },
  {
   "cell_type": "code",
   "execution_count": 16,
   "id": "5db8c785",
   "metadata": {},
   "outputs": [
    {
     "data": {
      "text/plain": [
       "<AxesSubplot:xlabel='year'>"
      ]
     },
     "execution_count": 16,
     "metadata": {},
     "output_type": "execute_result"
    },
    {
     "data": {
      "image/png": "[encoded data removed]",
      "text/plain": [
       "<Figure size 432x288 with 1 Axes>"
      ]
     },
     "metadata": {
      "needs_background": "light"
     },
     "output_type": "display_data"
    }
   ],
   "source": [
    "sns.boxplot(df['year'])"
   ]
  },
  {
   "cell_type": "code",
   "execution_count": 17,
   "id": "93428956",
   "metadata": {},
   "outputs": [],
   "source": [
    "import datetime\n",
    "current_year = datetime.datetime.now().year\n",
    "df['year'] = current_year - df['year']"
   ]
  },
  {
   "cell_type": "code",
   "execution_count": 18,
   "id": "4148aade",
   "metadata": {},
   "outputs": [
    {
     "data": {
      "text/html": [
       "<div>\n",
       "<style scoped>\n",
       "    .dataframe tbody tr th:only-of-type {\n",
       "        vertical-align: middle;\n",
       "    }\n",
       "\n",
       "    .dataframe tbody tr th {\n",
       "        vertical-align: top;\n",
       "    }\n",
       "\n",
       "    .dataframe thead th {\n",
       "        text-align: right;\n",
       "    }\n",
       "</style>\n",
       "<table border=\"1\" class=\"dataframe\">\n",
       "  <thead>\n",
       "    <tr style=\"text-align: right;\">\n",
       "      <th></th>\n",
       "      <th>year</th>\n",
       "      <th>selling_price</th>\n",
       "      <th>km_driven</th>\n",
       "      <th>fuel</th>\n",
       "      <th>seller_type</th>\n",
       "      <th>transmission</th>\n",
       "      <th>owner</th>\n",
       "      <th>car_brand_name</th>\n",
       "    </tr>\n",
       "  </thead>\n",
       "  <tbody>\n",
       "    <tr>\n",
       "      <th>0</th>\n",
       "      <td>16</td>\n",
       "      <td>60000</td>\n",
       "      <td>70000</td>\n",
       "      <td>Petrol</td>\n",
       "      <td>Individual</td>\n",
       "      <td>Manual</td>\n",
       "      <td>First Owner</td>\n",
       "      <td>Maruti</td>\n",
       "    </tr>\n",
       "    <tr>\n",
       "      <th>1</th>\n",
       "      <td>16</td>\n",
       "      <td>135000</td>\n",
       "      <td>50000</td>\n",
       "      <td>Petrol</td>\n",
       "      <td>Individual</td>\n",
       "      <td>Manual</td>\n",
       "      <td>First Owner</td>\n",
       "      <td>Maruti</td>\n",
       "    </tr>\n",
       "    <tr>\n",
       "      <th>2</th>\n",
       "      <td>11</td>\n",
       "      <td>600000</td>\n",
       "      <td>100000</td>\n",
       "      <td>Diesel</td>\n",
       "      <td>Individual</td>\n",
       "      <td>Manual</td>\n",
       "      <td>First Owner</td>\n",
       "      <td>Hyundai</td>\n",
       "    </tr>\n",
       "    <tr>\n",
       "      <th>3</th>\n",
       "      <td>6</td>\n",
       "      <td>250000</td>\n",
       "      <td>46000</td>\n",
       "      <td>Petrol</td>\n",
       "      <td>Individual</td>\n",
       "      <td>Manual</td>\n",
       "      <td>First Owner</td>\n",
       "      <td>Datsun</td>\n",
       "    </tr>\n",
       "    <tr>\n",
       "      <th>4</th>\n",
       "      <td>9</td>\n",
       "      <td>450000</td>\n",
       "      <td>141000</td>\n",
       "      <td>Diesel</td>\n",
       "      <td>Individual</td>\n",
       "      <td>Manual</td>\n",
       "      <td>Second Owner</td>\n",
       "      <td>Honda</td>\n",
       "    </tr>\n",
       "    <tr>\n",
       "      <th>...</th>\n",
       "      <td>...</td>\n",
       "      <td>...</td>\n",
       "      <td>...</td>\n",
       "      <td>...</td>\n",
       "      <td>...</td>\n",
       "      <td>...</td>\n",
       "      <td>...</td>\n",
       "      <td>...</td>\n",
       "    </tr>\n",
       "    <tr>\n",
       "      <th>4335</th>\n",
       "      <td>9</td>\n",
       "      <td>409999</td>\n",
       "      <td>80000</td>\n",
       "      <td>Diesel</td>\n",
       "      <td>Individual</td>\n",
       "      <td>Manual</td>\n",
       "      <td>Second Owner</td>\n",
       "      <td>Hyundai</td>\n",
       "    </tr>\n",
       "    <tr>\n",
       "      <th>4336</th>\n",
       "      <td>9</td>\n",
       "      <td>409999</td>\n",
       "      <td>80000</td>\n",
       "      <td>Diesel</td>\n",
       "      <td>Individual</td>\n",
       "      <td>Manual</td>\n",
       "      <td>Second Owner</td>\n",
       "      <td>Hyundai</td>\n",
       "    </tr>\n",
       "    <tr>\n",
       "      <th>4337</th>\n",
       "      <td>14</td>\n",
       "      <td>110000</td>\n",
       "      <td>83000</td>\n",
       "      <td>Petrol</td>\n",
       "      <td>Individual</td>\n",
       "      <td>Manual</td>\n",
       "      <td>Second Owner</td>\n",
       "      <td>Maruti</td>\n",
       "    </tr>\n",
       "    <tr>\n",
       "      <th>4338</th>\n",
       "      <td>7</td>\n",
       "      <td>865000</td>\n",
       "      <td>90000</td>\n",
       "      <td>Diesel</td>\n",
       "      <td>Individual</td>\n",
       "      <td>Manual</td>\n",
       "      <td>First Owner</td>\n",
       "      <td>Hyundai</td>\n",
       "    </tr>\n",
       "    <tr>\n",
       "      <th>4339</th>\n",
       "      <td>7</td>\n",
       "      <td>225000</td>\n",
       "      <td>40000</td>\n",
       "      <td>Petrol</td>\n",
       "      <td>Individual</td>\n",
       "      <td>Manual</td>\n",
       "      <td>First Owner</td>\n",
       "      <td>Renault</td>\n",
       "    </tr>\n",
       "  </tbody>\n",
       "</table>\n",
       "<p>4340 rows × 8 columns</p>\n",
       "</div>"
      ],
      "text/plain": [
       "      year  selling_price  km_driven    fuel seller_type transmission  \\\n",
       "0       16          60000      70000  Petrol  Individual       Manual   \n",
       "1       16         135000      50000  Petrol  Individual       Manual   \n",
       "2       11         600000     100000  Diesel  Individual       Manual   \n",
       "3        6         250000      46000  Petrol  Individual       Manual   \n",
       "4        9         450000     141000  Diesel  Individual       Manual   \n",
       "...    ...            ...        ...     ...         ...          ...   \n",
       "4335     9         409999      80000  Diesel  Individual       Manual   \n",
       "4336     9         409999      80000  Diesel  Individual       Manual   \n",
       "4337    14         110000      83000  Petrol  Individual       Manual   \n",
       "4338     7         865000      90000  Diesel  Individual       Manual   \n",
       "4339     7         225000      40000  Petrol  Individual       Manual   \n",
       "\n",
       "             owner car_brand_name  \n",
       "0      First Owner         Maruti  \n",
       "1      First Owner         Maruti  \n",
       "2      First Owner        Hyundai  \n",
       "3      First Owner         Datsun  \n",
       "4     Second Owner          Honda  \n",
       "...            ...            ...  \n",
       "4335  Second Owner        Hyundai  \n",
       "4336  Second Owner        Hyundai  \n",
       "4337  Second Owner         Maruti  \n",
       "4338   First Owner        Hyundai  \n",
       "4339   First Owner        Renault  \n",
       "\n",
       "[4340 rows x 8 columns]"
      ]
     },
     "execution_count": 18,
     "metadata": {},
     "output_type": "execute_result"
    }
   ],
   "source": [
    "df"
   ]
  },
  {
   "cell_type": "code",
   "execution_count": 19,
   "id": "efbbac9f",
   "metadata": {},
   "outputs": [
    {
     "data": {
      "text/plain": [
       "<AxesSubplot:xlabel='km_driven'>"
      ]
     },
     "execution_count": 19,
     "metadata": {},
     "output_type": "execute_result"
    },
    {
     "data": {
      "image/png": "[encoded data removed]",
      "text/plain": [
       "<Figure size 432x288 with 1 Axes>"
      ]
     },
     "metadata": {
      "needs_background": "light"
     },
     "output_type": "display_data"
    }
   ],
   "source": [
    "sns.boxplot(df['km_driven'])"
   ]
  },
  {
   "cell_type": "code",
   "execution_count": 20,
   "id": "0aba5e8b",
   "metadata": {
    "scrolled": false
   },
   "outputs": [
    {
     "data": {
      "text/plain": [
       "<AxesSubplot:xlabel='selling_price', ylabel='Density'>"
      ]
     },
     "execution_count": 20,
     "metadata": {},
     "output_type": "execute_result"
    },
    {
     "data": {
      "image/png": "[encoded data removed]",
      "text/plain": [
       "<Figure size 432x288 with 1 Axes>"
      ]
     },
     "metadata": {
      "needs_background": "light"
     },
     "output_type": "display_data"
    }
   ],
   "source": [
    "sns.distplot(df['selling_price'])"
   ]
  },
  {
   "cell_type": "code",
   "execution_count": 21,
   "id": "bb8893c9",
   "metadata": {},
   "outputs": [
    {
     "data": {
      "text/plain": [
       "<AxesSubplot:xlabel='selling_price'>"
      ]
     },
     "execution_count": 21,
     "metadata": {},
     "output_type": "execute_result"
    },
    {
     "data": {
      "image/png": "[encoded data removed]",
      "text/plain": [
       "<Figure size 432x288 with 1 Axes>"
      ]
     },
     "metadata": {
      "needs_background": "light"
     },
     "output_type": "display_data"
    }
   ],
   "source": [
    "\"\"\"# Example: Capping outliers in 'selling_price'\n",
    "Q1 = df['selling_price'].quantile(0.25)\n",
    "Q3 = df['selling_price'].quantile(0.75)\n",
    "IQR = Q3 - Q1\n",
    "upper_limit = Q3 + 1.5 * IQR\n",
    "df['selling_price'] = df['selling_price'].apply(lambda x: upper_limit if x > upper_limit else x)\"\"\"\n",
    "sns.boxplot(x=df['selling_price'])"
   ]
  },
  {
   "cell_type": "markdown",
   "id": "f46b913e",
   "metadata": {},
   "source": [
    "# Bivariate Analysis:\n",
    "\n",
    ">>>Explore relationships between numeric variables and the target variable ('selling_price') using scatter plots or correlation matrices.\n",
    "Analyze the impact of categorical variables on 'selling_price' using box plots or bar plots."
   ]
  },
  {
   "cell_type": "code",
   "execution_count": 22,
   "id": "cbb731fe",
   "metadata": {
    "scrolled": true
   },
   "outputs": [
    {
     "data": {
      "image/png": "[encoded data removed]",
      "text/plain": [
       "<Figure size 432x288 with 1 Axes>"
      ]
     },
     "metadata": {
      "needs_background": "light"
     },
     "output_type": "display_data"
    }
   ],
   "source": [
    "# Scatter plot: Year vs Selling Price\n",
    "sns.scatterplot(x='year', y='selling_price', data=df)\n",
    "plt.title('Scatter Plot: Year vs Selling Price')\n",
    "plt.show()"
   ]
  },
  {
   "cell_type": "code",
   "execution_count": 23,
   "id": "aac6bcb7",
   "metadata": {
    "scrolled": true
   },
   "outputs": [
    {
     "data": {
      "image/png": "[encoded data removed]",
      "text/plain": [
       "<Figure size 432x288 with 1 Axes>"
      ]
     },
     "metadata": {
      "needs_background": "light"
     },
     "output_type": "display_data"
    }
   ],
   "source": [
    "# Scatter plot: Km Driven vs Selling Price\n",
    "sns.scatterplot(x='km_driven', y='selling_price', data=df)\n",
    "plt.title('Scatter Plot: Km Driven vs Selling Price')\n",
    "plt.show()"
   ]
  },
  {
   "cell_type": "code",
   "execution_count": 24,
   "id": "78bf6d1e",
   "metadata": {},
   "outputs": [
    {
     "data": {
      "text/plain": [
       "<AxesSubplot:>"
      ]
     },
     "execution_count": 24,
     "metadata": {},
     "output_type": "execute_result"
    },
    {
     "data": {
      "image/png": "[encoded data removed]",
      "text/plain": [
       "<Figure size 432x288 with 2 Axes>"
      ]
     },
     "metadata": {
      "needs_background": "light"
     },
     "output_type": "display_data"
    }
   ],
   "source": [
    "sns.heatmap(df.corr(),annot=True)"
   ]
  },
  {
   "cell_type": "code",
   "execution_count": 25,
   "id": "f185bd3d",
   "metadata": {},
   "outputs": [
    {
     "data": {
      "text/plain": [
       "{'Diesel': 2153, 'Petrol': 2123, 'CNG': 40, 'LPG': 23, 'Electric': 1}"
      ]
     },
     "execution_count": 25,
     "metadata": {},
     "output_type": "execute_result"
    }
   ],
   "source": [
    "df['transmission'].value_counts().to_dict()\n",
    "df['seller_type'].value_counts().to_dict()\n",
    "df['owner'].value_counts().to_dict()\n",
    "df['fuel'].value_counts().to_dict()"
   ]
  },
  {
   "cell_type": "code",
   "execution_count": 26,
   "id": "186f7f17",
   "metadata": {},
   "outputs": [],
   "source": [
    "df['transmission'] = df['transmission'].replace({'Manual': 1, 'Automatic': 0}).astype('int')\n",
    "df['seller_type'] = df['seller_type'].replace({'Individual': 0, 'Dealer': 1, 'Trustmark Dealer': 2}).astype('int')\n",
    "df['owner'] = df['owner'].replace({'First Owner': 1,'Second Owner': 2,'Third Owner': 3,\n",
    " 'Fourth & Above Owner': 4,\n",
    " 'Test Drive Car': 0}).astype('int')\n",
    "df['fuel']=df['fuel'].replace({'Diesel': 1, 'Petrol': 2, 'CNG': 3, 'LPG': 4, 'Electric': 5}).astype('int')"
   ]
  },
  {
   "cell_type": "code",
   "execution_count": 27,
   "id": "551df245",
   "metadata": {},
   "outputs": [
    {
     "name": "stdout",
     "output_type": "stream",
     "text": [
      "<class 'pandas.core.frame.DataFrame'>\n",
      "RangeIndex: 4340 entries, 0 to 4339\n",
      "Data columns (total 8 columns):\n",
      " #   Column          Non-Null Count  Dtype   \n",
      "---  ------          --------------  -----   \n",
      " 0   year            4340 non-null   int64   \n",
      " 1   selling_price   4340 non-null   int64   \n",
      " 2   km_driven       4340 non-null   int64   \n",
      " 3   fuel            4340 non-null   int32   \n",
      " 4   seller_type     4340 non-null   int32   \n",
      " 5   transmission    4340 non-null   int32   \n",
      " 6   owner           4340 non-null   int32   \n",
      " 7   car_brand_name  4340 non-null   category\n",
      "dtypes: category(1), int32(4), int64(3)\n",
      "memory usage: 175.2 KB\n"
     ]
    }
   ],
   "source": [
    "df.info()"
   ]
  },
  {
   "cell_type": "code",
   "execution_count": 28,
   "id": "bd877a3f",
   "metadata": {
    "scrolled": true
   },
   "outputs": [
    {
     "data": {
      "text/plain": [
       "<AxesSubplot:>"
      ]
     },
     "execution_count": 28,
     "metadata": {},
     "output_type": "execute_result"
    },
    {
     "data": {
      "image/png": "[encoded data removed]",
      "text/plain": [
       "<Figure size 864x576 with 2 Axes>"
      ]
     },
     "metadata": {
      "needs_background": "light"
     },
     "output_type": "display_data"
    }
   ],
   "source": [
    "plt.figure(figsize=(12,8))\n",
    "sns.heatmap(df.corr(),annot=True)"
   ]
  },
  {
   "cell_type": "code",
   "execution_count": 29,
   "id": "3523afe2",
   "metadata": {},
   "outputs": [],
   "source": [
    "# df = df.drop('km_driven',axis=1)"
   ]
  },
  {
   "cell_type": "code",
   "execution_count": 30,
   "id": "b6442d38",
   "metadata": {
    "scrolled": true
   },
   "outputs": [
    {
     "data": {
      "text/html": [
       "<div>\n",
       "<style scoped>\n",
       "    .dataframe tbody tr th:only-of-type {\n",
       "        vertical-align: middle;\n",
       "    }\n",
       "\n",
       "    .dataframe tbody tr th {\n",
       "        vertical-align: top;\n",
       "    }\n",
       "\n",
       "    .dataframe thead th {\n",
       "        text-align: right;\n",
       "    }\n",
       "</style>\n",
       "<table border=\"1\" class=\"dataframe\">\n",
       "  <thead>\n",
       "    <tr style=\"text-align: right;\">\n",
       "      <th></th>\n",
       "      <th>year</th>\n",
       "      <th>selling_price</th>\n",
       "      <th>km_driven</th>\n",
       "      <th>fuel</th>\n",
       "      <th>seller_type</th>\n",
       "      <th>transmission</th>\n",
       "      <th>owner</th>\n",
       "      <th>car_brand_name</th>\n",
       "    </tr>\n",
       "  </thead>\n",
       "  <tbody>\n",
       "    <tr>\n",
       "      <th>0</th>\n",
       "      <td>16</td>\n",
       "      <td>60000</td>\n",
       "      <td>70000</td>\n",
       "      <td>2</td>\n",
       "      <td>0</td>\n",
       "      <td>1</td>\n",
       "      <td>1</td>\n",
       "      <td>Maruti</td>\n",
       "    </tr>\n",
       "    <tr>\n",
       "      <th>1</th>\n",
       "      <td>16</td>\n",
       "      <td>135000</td>\n",
       "      <td>50000</td>\n",
       "      <td>2</td>\n",
       "      <td>0</td>\n",
       "      <td>1</td>\n",
       "      <td>1</td>\n",
       "      <td>Maruti</td>\n",
       "    </tr>\n",
       "    <tr>\n",
       "      <th>2</th>\n",
       "      <td>11</td>\n",
       "      <td>600000</td>\n",
       "      <td>100000</td>\n",
       "      <td>1</td>\n",
       "      <td>0</td>\n",
       "      <td>1</td>\n",
       "      <td>1</td>\n",
       "      <td>Hyundai</td>\n",
       "    </tr>\n",
       "    <tr>\n",
       "      <th>3</th>\n",
       "      <td>6</td>\n",
       "      <td>250000</td>\n",
       "      <td>46000</td>\n",
       "      <td>2</td>\n",
       "      <td>0</td>\n",
       "      <td>1</td>\n",
       "      <td>1</td>\n",
       "      <td>Datsun</td>\n",
       "    </tr>\n",
       "    <tr>\n",
       "      <th>4</th>\n",
       "      <td>9</td>\n",
       "      <td>450000</td>\n",
       "      <td>141000</td>\n",
       "      <td>1</td>\n",
       "      <td>0</td>\n",
       "      <td>1</td>\n",
       "      <td>2</td>\n",
       "      <td>Honda</td>\n",
       "    </tr>\n",
       "  </tbody>\n",
       "</table>\n",
       "</div>"
      ],
      "text/plain": [
       "   year  selling_price  km_driven  fuel  seller_type  transmission  owner  \\\n",
       "0    16          60000      70000     2            0             1      1   \n",
       "1    16         135000      50000     2            0             1      1   \n",
       "2    11         600000     100000     1            0             1      1   \n",
       "3     6         250000      46000     2            0             1      1   \n",
       "4     9         450000     141000     1            0             1      2   \n",
       "\n",
       "  car_brand_name  \n",
       "0         Maruti  \n",
       "1         Maruti  \n",
       "2        Hyundai  \n",
       "3         Datsun  \n",
       "4          Honda  "
      ]
     },
     "execution_count": 30,
     "metadata": {},
     "output_type": "execute_result"
    }
   ],
   "source": [
    "df.head()"
   ]
  },
  {
   "cell_type": "code",
   "execution_count": 31,
   "id": "c87b0c8b",
   "metadata": {},
   "outputs": [
    {
     "data": {
      "text/plain": [
       "<AxesSubplot:xlabel='selling_price', ylabel='Density'>"
      ]
     },
     "execution_count": 31,
     "metadata": {},
     "output_type": "execute_result"
    },
    {
     "data": {
      "image/png": "[encoded data removed]",
      "text/plain": [
       "<Figure size 432x288 with 1 Axes>"
      ]
     },
     "metadata": {
      "needs_background": "light"
     },
     "output_type": "display_data"
    }
   ],
   "source": [
    "sns.distplot(df[\"selling_price\"])"
   ]
  },
  {
   "cell_type": "code",
   "execution_count": 32,
   "id": "8ce5f20a",
   "metadata": {},
   "outputs": [
    {
     "name": "stdout",
     "output_type": "stream",
     "text": [
      "Skewness of target variable:  4.892021472306356\n",
      "Kurtosis of target variable:  37.08754263212727\n"
     ]
    }
   ],
   "source": [
    "print(\"Skewness of target variable: \", df[\"selling_price\"].skew())\n",
    "print(\"Kurtosis of target variable: \", df[\"selling_price\"].kurt())"
   ]
  },
  {
   "cell_type": "code",
   "execution_count": 33,
   "id": "f9435d4d",
   "metadata": {},
   "outputs": [
    {
     "data": {
      "text/plain": [
       "<AxesSubplot:xlabel='selling_price', ylabel='Density'>"
      ]
     },
     "execution_count": 33,
     "metadata": {},
     "output_type": "execute_result"
    },
    {
     "data": {
      "image/png": "[encoded data removed]",
      "text/plain": [
       "<Figure size 432x288 with 1 Axes>"
      ]
     },
     "metadata": {
      "needs_background": "light"
     },
     "output_type": "display_data"
    }
   ],
   "source": [
    "sns.distplot(np.log(df[\"selling_price\"]))"
   ]
  },
  {
   "cell_type": "code",
   "execution_count": 34,
   "id": "cbb22e96",
   "metadata": {
    "scrolled": true
   },
   "outputs": [
    {
     "name": "stdout",
     "output_type": "stream",
     "text": [
      "Skewness of year variable is: 0.8332399429173999\n",
      "Skewness of selling_price variable is: 4.892021472306356\n",
      "Skewness of km_driven variable is: 2.6690569869843133\n",
      "Skewness of fuel variable is: 0.6060992827051294\n",
      "Skewness of seller_type variable is: 1.5628409172591309\n",
      "Skewness of transmission variable is: -2.609082802082893\n",
      "Skewness of owner variable is: 1.5121472495085855\n"
     ]
    }
   ],
   "source": [
    "# get skewness of other numeric variables\n",
    "\n",
    "numeric_data = [column for column in df.select_dtypes([\"int\", \"float\"])]\n",
    "for col in numeric_data:\n",
    "    print(\"Skewness of\", col, \"variable is:\", df[col].skew())"
   ]
  },
  {
   "cell_type": "code",
   "execution_count": 35,
   "id": "7b5bca42",
   "metadata": {},
   "outputs": [],
   "source": [
    "# select dependent variable (label)\n",
    "y = df[\"selling_price\"]\n",
    "y = np.log1p(y)"
   ]
  },
  {
   "cell_type": "code",
   "execution_count": 36,
   "id": "c87fc58f",
   "metadata": {},
   "outputs": [],
   "source": [
    "# select independent variable (estimator)\n",
    "x = df.drop(\"selling_price\", axis = 1)\n",
    "\n",
    "#encode the variables of the dataset\n",
    "x = pd.get_dummies(x, drop_first = True)"
   ]
  },
  {
   "cell_type": "code",
   "execution_count": 37,
   "id": "79686d42",
   "metadata": {},
   "outputs": [
    {
     "data": {
      "text/html": [
       "<div>\n",
       "<style scoped>\n",
       "    .dataframe tbody tr th:only-of-type {\n",
       "        vertical-align: middle;\n",
       "    }\n",
       "\n",
       "    .dataframe tbody tr th {\n",
       "        vertical-align: top;\n",
       "    }\n",
       "\n",
       "    .dataframe thead th {\n",
       "        text-align: right;\n",
       "    }\n",
       "</style>\n",
       "<table border=\"1\" class=\"dataframe\">\n",
       "  <thead>\n",
       "    <tr style=\"text-align: right;\">\n",
       "      <th></th>\n",
       "      <th>year</th>\n",
       "      <th>selling_price</th>\n",
       "      <th>km_driven</th>\n",
       "      <th>fuel</th>\n",
       "      <th>seller_type</th>\n",
       "      <th>transmission</th>\n",
       "      <th>owner</th>\n",
       "      <th>car_brand_name</th>\n",
       "    </tr>\n",
       "  </thead>\n",
       "  <tbody>\n",
       "    <tr>\n",
       "      <th>0</th>\n",
       "      <td>16</td>\n",
       "      <td>60000</td>\n",
       "      <td>70000</td>\n",
       "      <td>2</td>\n",
       "      <td>0</td>\n",
       "      <td>1</td>\n",
       "      <td>1</td>\n",
       "      <td>Maruti</td>\n",
       "    </tr>\n",
       "    <tr>\n",
       "      <th>1</th>\n",
       "      <td>16</td>\n",
       "      <td>135000</td>\n",
       "      <td>50000</td>\n",
       "      <td>2</td>\n",
       "      <td>0</td>\n",
       "      <td>1</td>\n",
       "      <td>1</td>\n",
       "      <td>Maruti</td>\n",
       "    </tr>\n",
       "    <tr>\n",
       "      <th>2</th>\n",
       "      <td>11</td>\n",
       "      <td>600000</td>\n",
       "      <td>100000</td>\n",
       "      <td>1</td>\n",
       "      <td>0</td>\n",
       "      <td>1</td>\n",
       "      <td>1</td>\n",
       "      <td>Hyundai</td>\n",
       "    </tr>\n",
       "    <tr>\n",
       "      <th>3</th>\n",
       "      <td>6</td>\n",
       "      <td>250000</td>\n",
       "      <td>46000</td>\n",
       "      <td>2</td>\n",
       "      <td>0</td>\n",
       "      <td>1</td>\n",
       "      <td>1</td>\n",
       "      <td>Datsun</td>\n",
       "    </tr>\n",
       "    <tr>\n",
       "      <th>4</th>\n",
       "      <td>9</td>\n",
       "      <td>450000</td>\n",
       "      <td>141000</td>\n",
       "      <td>1</td>\n",
       "      <td>0</td>\n",
       "      <td>1</td>\n",
       "      <td>2</td>\n",
       "      <td>Honda</td>\n",
       "    </tr>\n",
       "  </tbody>\n",
       "</table>\n",
       "</div>"
      ],
      "text/plain": [
       "   year  selling_price  km_driven  fuel  seller_type  transmission  owner  \\\n",
       "0    16          60000      70000     2            0             1      1   \n",
       "1    16         135000      50000     2            0             1      1   \n",
       "2    11         600000     100000     1            0             1      1   \n",
       "3     6         250000      46000     2            0             1      1   \n",
       "4     9         450000     141000     1            0             1      2   \n",
       "\n",
       "  car_brand_name  \n",
       "0         Maruti  \n",
       "1         Maruti  \n",
       "2        Hyundai  \n",
       "3         Datsun  \n",
       "4          Honda  "
      ]
     },
     "execution_count": 37,
     "metadata": {},
     "output_type": "execute_result"
    }
   ],
   "source": [
    "df.head()"
   ]
  },
  {
   "cell_type": "code",
   "execution_count": 38,
   "id": "dea0f25b",
   "metadata": {},
   "outputs": [
    {
     "data": {
      "text/html": [
       "<div>\n",
       "<style scoped>\n",
       "    .dataframe tbody tr th:only-of-type {\n",
       "        vertical-align: middle;\n",
       "    }\n",
       "\n",
       "    .dataframe tbody tr th {\n",
       "        vertical-align: top;\n",
       "    }\n",
       "\n",
       "    .dataframe thead th {\n",
       "        text-align: right;\n",
       "    }\n",
       "</style>\n",
       "<table border=\"1\" class=\"dataframe\">\n",
       "  <thead>\n",
       "    <tr style=\"text-align: right;\">\n",
       "      <th></th>\n",
       "      <th>year</th>\n",
       "      <th>km_driven</th>\n",
       "      <th>fuel</th>\n",
       "      <th>seller_type</th>\n",
       "      <th>transmission</th>\n",
       "      <th>owner</th>\n",
       "      <th>car_brand_name_Audi</th>\n",
       "      <th>car_brand_name_BMW</th>\n",
       "      <th>car_brand_name_Chevrolet</th>\n",
       "      <th>car_brand_name_Daewoo</th>\n",
       "      <th>car_brand_name_Datsun</th>\n",
       "      <th>car_brand_name_Fiat</th>\n",
       "      <th>car_brand_name_Force</th>\n",
       "      <th>car_brand_name_Ford</th>\n",
       "      <th>car_brand_name_Honda</th>\n",
       "      <th>car_brand_name_Hyundai</th>\n",
       "      <th>car_brand_name_Isuzu</th>\n",
       "      <th>car_brand_name_Jaguar</th>\n",
       "      <th>car_brand_name_Jeep</th>\n",
       "      <th>car_brand_name_Kia</th>\n",
       "      <th>car_brand_name_Land</th>\n",
       "      <th>car_brand_name_MG</th>\n",
       "      <th>car_brand_name_Mahindra</th>\n",
       "      <th>car_brand_name_Maruti</th>\n",
       "      <th>car_brand_name_Mercedes-Benz</th>\n",
       "      <th>car_brand_name_Mitsubishi</th>\n",
       "      <th>car_brand_name_Nissan</th>\n",
       "      <th>car_brand_name_OpelCorsa</th>\n",
       "      <th>car_brand_name_Renault</th>\n",
       "      <th>car_brand_name_Skoda</th>\n",
       "      <th>car_brand_name_Tata</th>\n",
       "      <th>car_brand_name_Toyota</th>\n",
       "      <th>car_brand_name_Volkswagen</th>\n",
       "      <th>car_brand_name_Volvo</th>\n",
       "    </tr>\n",
       "  </thead>\n",
       "  <tbody>\n",
       "    <tr>\n",
       "      <th>0</th>\n",
       "      <td>16</td>\n",
       "      <td>70000</td>\n",
       "      <td>2</td>\n",
       "      <td>0</td>\n",
       "      <td>1</td>\n",
       "      <td>1</td>\n",
       "      <td>0</td>\n",
       "      <td>0</td>\n",
       "      <td>0</td>\n",
       "      <td>0</td>\n",
       "      <td>0</td>\n",
       "      <td>0</td>\n",
       "      <td>0</td>\n",
       "      <td>0</td>\n",
       "      <td>0</td>\n",
       "      <td>0</td>\n",
       "      <td>0</td>\n",
       "      <td>0</td>\n",
       "      <td>0</td>\n",
       "      <td>0</td>\n",
       "      <td>0</td>\n",
       "      <td>0</td>\n",
       "      <td>0</td>\n",
       "      <td>1</td>\n",
       "      <td>0</td>\n",
       "      <td>0</td>\n",
       "      <td>0</td>\n",
       "      <td>0</td>\n",
       "      <td>0</td>\n",
       "      <td>0</td>\n",
       "      <td>0</td>\n",
       "      <td>0</td>\n",
       "      <td>0</td>\n",
       "      <td>0</td>\n",
       "    </tr>\n",
       "    <tr>\n",
       "      <th>1</th>\n",
       "      <td>16</td>\n",
       "      <td>50000</td>\n",
       "      <td>2</td>\n",
       "      <td>0</td>\n",
       "      <td>1</td>\n",
       "      <td>1</td>\n",
       "      <td>0</td>\n",
       "      <td>0</td>\n",
       "      <td>0</td>\n",
       "      <td>0</td>\n",
       "      <td>0</td>\n",
       "      <td>0</td>\n",
       "      <td>0</td>\n",
       "      <td>0</td>\n",
       "      <td>0</td>\n",
       "      <td>0</td>\n",
       "      <td>0</td>\n",
       "      <td>0</td>\n",
       "      <td>0</td>\n",
       "      <td>0</td>\n",
       "      <td>0</td>\n",
       "      <td>0</td>\n",
       "      <td>0</td>\n",
       "      <td>1</td>\n",
       "      <td>0</td>\n",
       "      <td>0</td>\n",
       "      <td>0</td>\n",
       "      <td>0</td>\n",
       "      <td>0</td>\n",
       "      <td>0</td>\n",
       "      <td>0</td>\n",
       "      <td>0</td>\n",
       "      <td>0</td>\n",
       "      <td>0</td>\n",
       "    </tr>\n",
       "    <tr>\n",
       "      <th>2</th>\n",
       "      <td>11</td>\n",
       "      <td>100000</td>\n",
       "      <td>1</td>\n",
       "      <td>0</td>\n",
       "      <td>1</td>\n",
       "      <td>1</td>\n",
       "      <td>0</td>\n",
       "      <td>0</td>\n",
       "      <td>0</td>\n",
       "      <td>0</td>\n",
       "      <td>0</td>\n",
       "      <td>0</td>\n",
       "      <td>0</td>\n",
       "      <td>0</td>\n",
       "      <td>0</td>\n",
       "      <td>1</td>\n",
       "      <td>0</td>\n",
       "      <td>0</td>\n",
       "      <td>0</td>\n",
       "      <td>0</td>\n",
       "      <td>0</td>\n",
       "      <td>0</td>\n",
       "      <td>0</td>\n",
       "      <td>0</td>\n",
       "      <td>0</td>\n",
       "      <td>0</td>\n",
       "      <td>0</td>\n",
       "      <td>0</td>\n",
       "      <td>0</td>\n",
       "      <td>0</td>\n",
       "      <td>0</td>\n",
       "      <td>0</td>\n",
       "      <td>0</td>\n",
       "      <td>0</td>\n",
       "    </tr>\n",
       "    <tr>\n",
       "      <th>3</th>\n",
       "      <td>6</td>\n",
       "      <td>46000</td>\n",
       "      <td>2</td>\n",
       "      <td>0</td>\n",
       "      <td>1</td>\n",
       "      <td>1</td>\n",
       "      <td>0</td>\n",
       "      <td>0</td>\n",
       "      <td>0</td>\n",
       "      <td>0</td>\n",
       "      <td>1</td>\n",
       "      <td>0</td>\n",
       "      <td>0</td>\n",
       "      <td>0</td>\n",
       "      <td>0</td>\n",
       "      <td>0</td>\n",
       "      <td>0</td>\n",
       "      <td>0</td>\n",
       "      <td>0</td>\n",
       "      <td>0</td>\n",
       "      <td>0</td>\n",
       "      <td>0</td>\n",
       "      <td>0</td>\n",
       "      <td>0</td>\n",
       "      <td>0</td>\n",
       "      <td>0</td>\n",
       "      <td>0</td>\n",
       "      <td>0</td>\n",
       "      <td>0</td>\n",
       "      <td>0</td>\n",
       "      <td>0</td>\n",
       "      <td>0</td>\n",
       "      <td>0</td>\n",
       "      <td>0</td>\n",
       "    </tr>\n",
       "    <tr>\n",
       "      <th>4</th>\n",
       "      <td>9</td>\n",
       "      <td>141000</td>\n",
       "      <td>1</td>\n",
       "      <td>0</td>\n",
       "      <td>1</td>\n",
       "      <td>2</td>\n",
       "      <td>0</td>\n",
       "      <td>0</td>\n",
       "      <td>0</td>\n",
       "      <td>0</td>\n",
       "      <td>0</td>\n",
       "      <td>0</td>\n",
       "      <td>0</td>\n",
       "      <td>0</td>\n",
       "      <td>1</td>\n",
       "      <td>0</td>\n",
       "      <td>0</td>\n",
       "      <td>0</td>\n",
       "      <td>0</td>\n",
       "      <td>0</td>\n",
       "      <td>0</td>\n",
       "      <td>0</td>\n",
       "      <td>0</td>\n",
       "      <td>0</td>\n",
       "      <td>0</td>\n",
       "      <td>0</td>\n",
       "      <td>0</td>\n",
       "      <td>0</td>\n",
       "      <td>0</td>\n",
       "      <td>0</td>\n",
       "      <td>0</td>\n",
       "      <td>0</td>\n",
       "      <td>0</td>\n",
       "      <td>0</td>\n",
       "    </tr>\n",
       "  </tbody>\n",
       "</table>\n",
       "</div>"
      ],
      "text/plain": [
       "   year  km_driven  fuel  seller_type  transmission  owner  \\\n",
       "0    16      70000     2            0             1      1   \n",
       "1    16      50000     2            0             1      1   \n",
       "2    11     100000     1            0             1      1   \n",
       "3     6      46000     2            0             1      1   \n",
       "4     9     141000     1            0             1      2   \n",
       "\n",
       "   car_brand_name_Audi  car_brand_name_BMW  car_brand_name_Chevrolet  \\\n",
       "0                    0                   0                         0   \n",
       "1                    0                   0                         0   \n",
       "2                    0                   0                         0   \n",
       "3                    0                   0                         0   \n",
       "4                    0                   0                         0   \n",
       "\n",
       "   car_brand_name_Daewoo  car_brand_name_Datsun  car_brand_name_Fiat  \\\n",
       "0                      0                      0                    0   \n",
       "1                      0                      0                    0   \n",
       "2                      0                      0                    0   \n",
       "3                      0                      1                    0   \n",
       "4                      0                      0                    0   \n",
       "\n",
       "   car_brand_name_Force  car_brand_name_Ford  car_brand_name_Honda  \\\n",
       "0                     0                    0                     0   \n",
       "1                     0                    0                     0   \n",
       "2                     0                    0                     0   \n",
       "3                     0                    0                     0   \n",
       "4                     0                    0                     1   \n",
       "\n",
       "   car_brand_name_Hyundai  car_brand_name_Isuzu  car_brand_name_Jaguar  \\\n",
       "0                       0                     0                      0   \n",
       "1                       0                     0                      0   \n",
       "2                       1                     0                      0   \n",
       "3                       0                     0                      0   \n",
       "4                       0                     0                      0   \n",
       "\n",
       "   car_brand_name_Jeep  car_brand_name_Kia  car_brand_name_Land  \\\n",
       "0                    0                   0                    0   \n",
       "1                    0                   0                    0   \n",
       "2                    0                   0                    0   \n",
       "3                    0                   0                    0   \n",
       "4                    0                   0                    0   \n",
       "\n",
       "   car_brand_name_MG  car_brand_name_Mahindra  car_brand_name_Maruti  \\\n",
       "0                  0                        0                      1   \n",
       "1                  0                        0                      1   \n",
       "2                  0                        0                      0   \n",
       "3                  0                        0                      0   \n",
       "4                  0                        0                      0   \n",
       "\n",
       "   car_brand_name_Mercedes-Benz  car_brand_name_Mitsubishi  \\\n",
       "0                             0                          0   \n",
       "1                             0                          0   \n",
       "2                             0                          0   \n",
       "3                             0                          0   \n",
       "4                             0                          0   \n",
       "\n",
       "   car_brand_name_Nissan  car_brand_name_OpelCorsa  car_brand_name_Renault  \\\n",
       "0                      0                         0                       0   \n",
       "1                      0                         0                       0   \n",
       "2                      0                         0                       0   \n",
       "3                      0                         0                       0   \n",
       "4                      0                         0                       0   \n",
       "\n",
       "   car_brand_name_Skoda  car_brand_name_Tata  car_brand_name_Toyota  \\\n",
       "0                     0                    0                      0   \n",
       "1                     0                    0                      0   \n",
       "2                     0                    0                      0   \n",
       "3                     0                    0                      0   \n",
       "4                     0                    0                      0   \n",
       "\n",
       "   car_brand_name_Volkswagen  car_brand_name_Volvo  \n",
       "0                          0                     0  \n",
       "1                          0                     0  \n",
       "2                          0                     0  \n",
       "3                          0                     0  \n",
       "4                          0                     0  "
      ]
     },
     "execution_count": 38,
     "metadata": {},
     "output_type": "execute_result"
    }
   ],
   "source": [
    "x.head()"
   ]
  },
  {
   "cell_type": "code",
   "execution_count": 39,
   "id": "28108fba",
   "metadata": {},
   "outputs": [
    {
     "name": "stdout",
     "output_type": "stream",
     "text": [
      "(3472, 34)\n",
      "(868, 34)\n"
     ]
    }
   ],
   "source": [
    "# Split the dataset into x_train (y_train) and x_test (y_test) sets\n",
    "\n",
    "x_train, x_test, y_train, y_test = train_test_split(x, y,\n",
    "                                                    test_size = 0.20,\n",
    "                                                    shuffle = True,\n",
    "                                                    random_state = 1)\n",
    "print(x_train.shape)\n",
    "print(x_test.shape)"
   ]
  },
  {
   "cell_type": "code",
   "execution_count": 40,
   "id": "56df9f70",
   "metadata": {},
   "outputs": [],
   "source": [
    "# rob_scaler = RobustScaler()\n",
    "# rob_scaler.fit(x_train)\n",
    "# x_train = rob_scaler.transform(x_train)\n",
    "# x_test = rob_scaler.transform(x_test)"
   ]
  },
  {
   "cell_type": "code",
   "execution_count": 41,
   "id": "39c4322c",
   "metadata": {},
   "outputs": [
    {
     "data": {
      "text/html": [
       "<style>#sk-container-id-1 {color: black;}#sk-container-id-1 pre{padding: 0;}#sk-container-id-1 div.sk-toggleable {background-color: white;}#sk-container-id-1 label.sk-toggleable__label {cursor: pointer;display: block;width: 100%;margin-bottom: 0;padding: 0.3em;box-sizing: border-box;text-align: center;}#sk-container-id-1 label.sk-toggleable__label-arrow:before {content: \"▸\";float: left;margin-right: 0.25em;color: #696969;}#sk-container-id-1 label.sk-toggleable__label-arrow:hover:before {color: black;}#sk-container-id-1 div.sk-estimator:hover label.sk-toggleable__label-arrow:before {color: black;}#sk-container-id-1 div.sk-toggleable__content {max-height: 0;max-width: 0;overflow: hidden;text-align: left;background-color: #f0f8ff;}#sk-container-id-1 div.sk-toggleable__content pre {margin: 0.2em;color: black;border-radius: 0.25em;background-color: #f0f8ff;}#sk-container-id-1 input.sk-toggleable__control:checked~div.sk-toggleable__content {max-height: 200px;max-width: 100%;overflow: auto;}#sk-container-id-1 input.sk-toggleable__control:checked~label.sk-toggleable__label-arrow:before {content: \"▾\";}#sk-container-id-1 div.sk-estimator input.sk-toggleable__control:checked~label.sk-toggleable__label {background-color: #d4ebff;}#sk-container-id-1 div.sk-label input.sk-toggleable__control:checked~label.sk-toggleable__label {background-color: #d4ebff;}#sk-container-id-1 input.sk-hidden--visually {border: 0;clip: rect(1px 1px 1px 1px);clip: rect(1px, 1px, 1px, 1px);height: 1px;margin: -1px;overflow: hidden;padding: 0;position: absolute;width: 1px;}#sk-container-id-1 div.sk-estimator {font-family: monospace;background-color: #f0f8ff;border: 1px dotted black;border-radius: 0.25em;box-sizing: border-box;margin-bottom: 0.5em;}#sk-container-id-1 div.sk-estimator:hover {background-color: #d4ebff;}#sk-container-id-1 div.sk-parallel-item::after {content: \"\";width: 100%;border-bottom: 1px solid gray;flex-grow: 1;}#sk-container-id-1 div.sk-label:hover label.sk-toggleable__label {background-color: #d4ebff;}#sk-container-id-1 div.sk-serial::before {content: \"\";position: absolute;border-left: 1px solid gray;box-sizing: border-box;top: 0;bottom: 0;left: 50%;z-index: 0;}#sk-container-id-1 div.sk-serial {display: flex;flex-direction: column;align-items: center;background-color: white;padding-right: 0.2em;padding-left: 0.2em;position: relative;}#sk-container-id-1 div.sk-item {position: relative;z-index: 1;}#sk-container-id-1 div.sk-parallel {display: flex;align-items: stretch;justify-content: center;background-color: white;position: relative;}#sk-container-id-1 div.sk-item::before, #sk-container-id-1 div.sk-parallel-item::before {content: \"\";position: absolute;border-left: 1px solid gray;box-sizing: border-box;top: 0;bottom: 0;left: 50%;z-index: -1;}#sk-container-id-1 div.sk-parallel-item {display: flex;flex-direction: column;z-index: 1;position: relative;background-color: white;}#sk-container-id-1 div.sk-parallel-item:first-child::after {align-self: flex-end;width: 50%;}#sk-container-id-1 div.sk-parallel-item:last-child::after {align-self: flex-start;width: 50%;}#sk-container-id-1 div.sk-parallel-item:only-child::after {width: 0;}#sk-container-id-1 div.sk-dashed-wrapped {border: 1px dashed gray;margin: 0 0.4em 0.5em 0.4em;box-sizing: border-box;padding-bottom: 0.4em;background-color: white;}#sk-container-id-1 div.sk-label label {font-family: monospace;font-weight: bold;display: inline-block;line-height: 1.2em;}#sk-container-id-1 div.sk-label-container {text-align: center;}#sk-container-id-1 div.sk-container {/* jupyter's `normalize.less` sets `[hidden] { display: none; }` but bootstrap.min.css set `[hidden] { display: none !important; }` so we also need the `!important` here to be able to override the default hidden behavior on the sphinx rendered scikit-learn.org. See: https://github.com/scikit-learn/scikit-learn/issues/21755 */display: inline-block !important;position: relative;}#sk-container-id-1 div.sk-text-repr-fallback {display: none;}</style><div id=\"sk-container-id-1\" class=\"sk-top-container\"><div class=\"sk-text-repr-fallback\"><pre>LinearRegression(copy_X=True, fit_intercept=True, n_jobs=None, positive=False)</pre><b>In a Jupyter environment, please rerun this cell to show the HTML representation or trust the notebook. <br />On GitHub, the HTML representation is unable to render, please try loading this page with nbviewer.org.</b></div><div class=\"sk-container\" hidden><div class=\"sk-item\"><div class=\"sk-estimator sk-toggleable\"><input class=\"sk-toggleable__control sk-hidden--visually\" id=\"sk-estimator-id-1\" type=\"checkbox\" checked><label for=\"sk-estimator-id-1\" class=\"sk-toggleable__label sk-toggleable__label-arrow\">LinearRegression</label><div class=\"sk-toggleable__content\"><pre>LinearRegression(copy_X=True, fit_intercept=True, n_jobs=None, positive=False)</pre></div></div></div></div></div>"
      ],
      "text/plain": [
       "LinearRegression(copy_X=True, fit_intercept=True, n_jobs=None, positive=False)"
      ]
     },
     "execution_count": 41,
     "metadata": {},
     "output_type": "execute_result"
    }
   ],
   "source": [
    "lr = LinearRegression()\n",
    "lr.fit(x_train,y_train)"
   ]
  },
  {
   "cell_type": "code",
   "execution_count": 42,
   "id": "9f5c7583",
   "metadata": {},
   "outputs": [
    {
     "name": "stdout",
     "output_type": "stream",
     "text": [
      "mean_squared_error : 0.1479730083129601\n",
      "Root_mean_squared_error : 0.3846725988590298\n",
      "mean_absolute_error : 0.30377244087180755\n",
      "r2_score : 0.7901135245481785\n"
     ]
    }
   ],
   "source": [
    "# Training data Evaluation\n",
    "y_train_pred = lr.predict(x_train)\n",
    "\n",
    "mse = mean_squared_error(y_train,y_train_pred)\n",
    "print('mean_squared_error :',mse)\n",
    "\n",
    "rmse = np.sqrt(mse)\n",
    "print('Root_mean_squared_error :',rmse)\n",
    "\n",
    "mae = mean_absolute_error(y_train,y_train_pred)\n",
    "print('mean_absolute_error :',mae)\n",
    "\n",
    "r = r2_score(y_train,y_train_pred)\n",
    "print('r2_score :',r)"
   ]
  },
  {
   "cell_type": "code",
   "execution_count": 43,
   "id": "e8a54760",
   "metadata": {},
   "outputs": [
    {
     "name": "stdout",
     "output_type": "stream",
     "text": [
      "mean_squared_error : 0.1510150227423161\n",
      "Root_mean_squared_error : 0.38860651402455426\n",
      "mean_absolute_error : 0.30387478321581674\n",
      "R-Squared: 0.7845347915244288\n"
     ]
    }
   ],
   "source": [
    "# Testing data Evaluation\n",
    "y_test_pred = lr.predict(x_test)\n",
    "\n",
    "mse = mean_squared_error(y_test,y_test_pred)\n",
    "print('mean_squared_error :',mse)\n",
    "\n",
    "rmse = np.sqrt(mse)\n",
    "print('Root_mean_squared_error :',rmse)\n",
    "\n",
    "mae = mean_absolute_error(y_test,y_test_pred)\n",
    "print('mean_absolute_error :',mae)\n",
    "\n",
    "r2 = r2_score(y_test, y_test_pred)\n",
    "print('R-Squared:', r2)"
   ]
  },
  {
   "cell_type": "code",
   "execution_count": 44,
   "id": "e8e341e8",
   "metadata": {},
   "outputs": [],
   "source": [
    "import pickle\n",
    "with open('car_price_predction Model.pkl','wb')as f:\n",
    "    pickle.dump(lr,f)"
   ]
  },
  {
   "cell_type": "code",
   "execution_count": 45,
   "id": "e4c59b06",
   "metadata": {},
   "outputs": [
    {
     "data": {
      "text/plain": [
       "34"
      ]
     },
     "execution_count": 45,
     "metadata": {},
     "output_type": "execute_result"
    }
   ],
   "source": [
    "len(x.columns)"
   ]
  },
  {
   "cell_type": "code",
   "execution_count": 46,
   "id": "2b57bf8e",
   "metadata": {},
   "outputs": [
    {
     "data": {
      "text/plain": [
       "Index(['year', 'selling_price', 'km_driven', 'fuel', 'seller_type',\n",
       "       'transmission', 'owner', 'car_brand_name'],\n",
       "      dtype='object')"
      ]
     },
     "execution_count": 46,
     "metadata": {},
     "output_type": "execute_result"
    }
   ],
   "source": [
    "df.columns"
   ]
  },
  {
   "cell_type": "code",
   "execution_count": 47,
   "id": "8fa0b527",
   "metadata": {},
   "outputs": [
    {
     "data": {
      "text/plain": [
       "29"
      ]
     },
     "execution_count": 47,
     "metadata": {},
     "output_type": "execute_result"
    }
   ],
   "source": [
    "df['car_brand_name'].nunique()"
   ]
  },
  {
   "cell_type": "code",
   "execution_count": 48,
   "id": "41501cda",
   "metadata": {
    "scrolled": false
   },
   "outputs": [
    {
     "data": {
      "text/html": [
       "<div>\n",
       "<style scoped>\n",
       "    .dataframe tbody tr th:only-of-type {\n",
       "        vertical-align: middle;\n",
       "    }\n",
       "\n",
       "    .dataframe tbody tr th {\n",
       "        vertical-align: top;\n",
       "    }\n",
       "\n",
       "    .dataframe thead th {\n",
       "        text-align: right;\n",
       "    }\n",
       "</style>\n",
       "<table border=\"1\" class=\"dataframe\">\n",
       "  <thead>\n",
       "    <tr style=\"text-align: right;\">\n",
       "      <th></th>\n",
       "      <th>3294</th>\n",
       "      <th>2290</th>\n",
       "      <th>874</th>\n",
       "      <th>1907</th>\n",
       "      <th>3244</th>\n",
       "    </tr>\n",
       "  </thead>\n",
       "  <tbody>\n",
       "    <tr>\n",
       "      <th>year</th>\n",
       "      <td>5</td>\n",
       "      <td>15</td>\n",
       "      <td>6</td>\n",
       "      <td>8</td>\n",
       "      <td>10</td>\n",
       "    </tr>\n",
       "    <tr>\n",
       "      <th>km_driven</th>\n",
       "      <td>50000</td>\n",
       "      <td>70000</td>\n",
       "      <td>50000</td>\n",
       "      <td>92198</td>\n",
       "      <td>3240</td>\n",
       "    </tr>\n",
       "    <tr>\n",
       "      <th>fuel</th>\n",
       "      <td>1</td>\n",
       "      <td>2</td>\n",
       "      <td>2</td>\n",
       "      <td>2</td>\n",
       "      <td>2</td>\n",
       "    </tr>\n",
       "    <tr>\n",
       "      <th>seller_type</th>\n",
       "      <td>0</td>\n",
       "      <td>0</td>\n",
       "      <td>0</td>\n",
       "      <td>1</td>\n",
       "      <td>0</td>\n",
       "    </tr>\n",
       "    <tr>\n",
       "      <th>transmission</th>\n",
       "      <td>0</td>\n",
       "      <td>0</td>\n",
       "      <td>1</td>\n",
       "      <td>1</td>\n",
       "      <td>1</td>\n",
       "    </tr>\n",
       "    <tr>\n",
       "      <th>owner</th>\n",
       "      <td>1</td>\n",
       "      <td>1</td>\n",
       "      <td>1</td>\n",
       "      <td>2</td>\n",
       "      <td>2</td>\n",
       "    </tr>\n",
       "    <tr>\n",
       "      <th>car_brand_name_Audi</th>\n",
       "      <td>0</td>\n",
       "      <td>0</td>\n",
       "      <td>0</td>\n",
       "      <td>0</td>\n",
       "      <td>0</td>\n",
       "    </tr>\n",
       "    <tr>\n",
       "      <th>car_brand_name_BMW</th>\n",
       "      <td>0</td>\n",
       "      <td>0</td>\n",
       "      <td>0</td>\n",
       "      <td>0</td>\n",
       "      <td>0</td>\n",
       "    </tr>\n",
       "    <tr>\n",
       "      <th>car_brand_name_Chevrolet</th>\n",
       "      <td>0</td>\n",
       "      <td>0</td>\n",
       "      <td>0</td>\n",
       "      <td>0</td>\n",
       "      <td>0</td>\n",
       "    </tr>\n",
       "    <tr>\n",
       "      <th>car_brand_name_Daewoo</th>\n",
       "      <td>0</td>\n",
       "      <td>0</td>\n",
       "      <td>0</td>\n",
       "      <td>0</td>\n",
       "      <td>0</td>\n",
       "    </tr>\n",
       "    <tr>\n",
       "      <th>car_brand_name_Datsun</th>\n",
       "      <td>0</td>\n",
       "      <td>0</td>\n",
       "      <td>0</td>\n",
       "      <td>1</td>\n",
       "      <td>0</td>\n",
       "    </tr>\n",
       "    <tr>\n",
       "      <th>car_brand_name_Fiat</th>\n",
       "      <td>0</td>\n",
       "      <td>0</td>\n",
       "      <td>0</td>\n",
       "      <td>0</td>\n",
       "      <td>0</td>\n",
       "    </tr>\n",
       "    <tr>\n",
       "      <th>car_brand_name_Force</th>\n",
       "      <td>0</td>\n",
       "      <td>0</td>\n",
       "      <td>0</td>\n",
       "      <td>0</td>\n",
       "      <td>0</td>\n",
       "    </tr>\n",
       "    <tr>\n",
       "      <th>car_brand_name_Ford</th>\n",
       "      <td>0</td>\n",
       "      <td>0</td>\n",
       "      <td>0</td>\n",
       "      <td>0</td>\n",
       "      <td>0</td>\n",
       "    </tr>\n",
       "    <tr>\n",
       "      <th>car_brand_name_Honda</th>\n",
       "      <td>0</td>\n",
       "      <td>1</td>\n",
       "      <td>0</td>\n",
       "      <td>0</td>\n",
       "      <td>0</td>\n",
       "    </tr>\n",
       "    <tr>\n",
       "      <th>car_brand_name_Hyundai</th>\n",
       "      <td>0</td>\n",
       "      <td>0</td>\n",
       "      <td>0</td>\n",
       "      <td>0</td>\n",
       "      <td>1</td>\n",
       "    </tr>\n",
       "    <tr>\n",
       "      <th>car_brand_name_Isuzu</th>\n",
       "      <td>0</td>\n",
       "      <td>0</td>\n",
       "      <td>0</td>\n",
       "      <td>0</td>\n",
       "      <td>0</td>\n",
       "    </tr>\n",
       "    <tr>\n",
       "      <th>car_brand_name_Jaguar</th>\n",
       "      <td>0</td>\n",
       "      <td>0</td>\n",
       "      <td>0</td>\n",
       "      <td>0</td>\n",
       "      <td>0</td>\n",
       "    </tr>\n",
       "    <tr>\n",
       "      <th>car_brand_name_Jeep</th>\n",
       "      <td>0</td>\n",
       "      <td>0</td>\n",
       "      <td>0</td>\n",
       "      <td>0</td>\n",
       "      <td>0</td>\n",
       "    </tr>\n",
       "    <tr>\n",
       "      <th>car_brand_name_Kia</th>\n",
       "      <td>0</td>\n",
       "      <td>0</td>\n",
       "      <td>0</td>\n",
       "      <td>0</td>\n",
       "      <td>0</td>\n",
       "    </tr>\n",
       "    <tr>\n",
       "      <th>car_brand_name_Land</th>\n",
       "      <td>0</td>\n",
       "      <td>0</td>\n",
       "      <td>0</td>\n",
       "      <td>0</td>\n",
       "      <td>0</td>\n",
       "    </tr>\n",
       "    <tr>\n",
       "      <th>car_brand_name_MG</th>\n",
       "      <td>0</td>\n",
       "      <td>0</td>\n",
       "      <td>0</td>\n",
       "      <td>0</td>\n",
       "      <td>0</td>\n",
       "    </tr>\n",
       "    <tr>\n",
       "      <th>car_brand_name_Mahindra</th>\n",
       "      <td>0</td>\n",
       "      <td>0</td>\n",
       "      <td>0</td>\n",
       "      <td>0</td>\n",
       "      <td>0</td>\n",
       "    </tr>\n",
       "    <tr>\n",
       "      <th>car_brand_name_Maruti</th>\n",
       "      <td>1</td>\n",
       "      <td>0</td>\n",
       "      <td>1</td>\n",
       "      <td>0</td>\n",
       "      <td>0</td>\n",
       "    </tr>\n",
       "    <tr>\n",
       "      <th>car_brand_name_Mercedes-Benz</th>\n",
       "      <td>0</td>\n",
       "      <td>0</td>\n",
       "      <td>0</td>\n",
       "      <td>0</td>\n",
       "      <td>0</td>\n",
       "    </tr>\n",
       "    <tr>\n",
       "      <th>car_brand_name_Mitsubishi</th>\n",
       "      <td>0</td>\n",
       "      <td>0</td>\n",
       "      <td>0</td>\n",
       "      <td>0</td>\n",
       "      <td>0</td>\n",
       "    </tr>\n",
       "    <tr>\n",
       "      <th>car_brand_name_Nissan</th>\n",
       "      <td>0</td>\n",
       "      <td>0</td>\n",
       "      <td>0</td>\n",
       "      <td>0</td>\n",
       "      <td>0</td>\n",
       "    </tr>\n",
       "    <tr>\n",
       "      <th>car_brand_name_OpelCorsa</th>\n",
       "      <td>0</td>\n",
       "      <td>0</td>\n",
       "      <td>0</td>\n",
       "      <td>0</td>\n",
       "      <td>0</td>\n",
       "    </tr>\n",
       "    <tr>\n",
       "      <th>car_brand_name_Renault</th>\n",
       "      <td>0</td>\n",
       "      <td>0</td>\n",
       "      <td>0</td>\n",
       "      <td>0</td>\n",
       "      <td>0</td>\n",
       "    </tr>\n",
       "    <tr>\n",
       "      <th>car_brand_name_Skoda</th>\n",
       "      <td>0</td>\n",
       "      <td>0</td>\n",
       "      <td>0</td>\n",
       "      <td>0</td>\n",
       "      <td>0</td>\n",
       "    </tr>\n",
       "    <tr>\n",
       "      <th>car_brand_name_Tata</th>\n",
       "      <td>0</td>\n",
       "      <td>0</td>\n",
       "      <td>0</td>\n",
       "      <td>0</td>\n",
       "      <td>0</td>\n",
       "    </tr>\n",
       "    <tr>\n",
       "      <th>car_brand_name_Toyota</th>\n",
       "      <td>0</td>\n",
       "      <td>0</td>\n",
       "      <td>0</td>\n",
       "      <td>0</td>\n",
       "      <td>0</td>\n",
       "    </tr>\n",
       "    <tr>\n",
       "      <th>car_brand_name_Volkswagen</th>\n",
       "      <td>0</td>\n",
       "      <td>0</td>\n",
       "      <td>0</td>\n",
       "      <td>0</td>\n",
       "      <td>0</td>\n",
       "    </tr>\n",
       "    <tr>\n",
       "      <th>car_brand_name_Volvo</th>\n",
       "      <td>0</td>\n",
       "      <td>0</td>\n",
       "      <td>0</td>\n",
       "      <td>0</td>\n",
       "      <td>0</td>\n",
       "    </tr>\n",
       "  </tbody>\n",
       "</table>\n",
       "</div>"
      ],
      "text/plain": [
       "                               3294   2290   874    1907  3244\n",
       "year                              5     15      6      8    10\n",
       "km_driven                     50000  70000  50000  92198  3240\n",
       "fuel                              1      2      2      2     2\n",
       "seller_type                       0      0      0      1     0\n",
       "transmission                      0      0      1      1     1\n",
       "owner                             1      1      1      2     2\n",
       "car_brand_name_Audi               0      0      0      0     0\n",
       "car_brand_name_BMW                0      0      0      0     0\n",
       "car_brand_name_Chevrolet          0      0      0      0     0\n",
       "car_brand_name_Daewoo             0      0      0      0     0\n",
       "car_brand_name_Datsun             0      0      0      1     0\n",
       "car_brand_name_Fiat               0      0      0      0     0\n",
       "car_brand_name_Force              0      0      0      0     0\n",
       "car_brand_name_Ford               0      0      0      0     0\n",
       "car_brand_name_Honda              0      1      0      0     0\n",
       "car_brand_name_Hyundai            0      0      0      0     1\n",
       "car_brand_name_Isuzu              0      0      0      0     0\n",
       "car_brand_name_Jaguar             0      0      0      0     0\n",
       "car_brand_name_Jeep               0      0      0      0     0\n",
       "car_brand_name_Kia                0      0      0      0     0\n",
       "car_brand_name_Land               0      0      0      0     0\n",
       "car_brand_name_MG                 0      0      0      0     0\n",
       "car_brand_name_Mahindra           0      0      0      0     0\n",
       "car_brand_name_Maruti             1      0      1      0     0\n",
       "car_brand_name_Mercedes-Benz      0      0      0      0     0\n",
       "car_brand_name_Mitsubishi         0      0      0      0     0\n",
       "car_brand_name_Nissan             0      0      0      0     0\n",
       "car_brand_name_OpelCorsa          0      0      0      0     0\n",
       "car_brand_name_Renault            0      0      0      0     0\n",
       "car_brand_name_Skoda              0      0      0      0     0\n",
       "car_brand_name_Tata               0      0      0      0     0\n",
       "car_brand_name_Toyota             0      0      0      0     0\n",
       "car_brand_name_Volkswagen         0      0      0      0     0\n",
       "car_brand_name_Volvo              0      0      0      0     0"
      ]
     },
     "execution_count": 48,
     "metadata": {},
     "output_type": "execute_result"
    }
   ],
   "source": [
    "x_train.head().T"
   ]
  },
  {
   "cell_type": "code",
   "execution_count": 60,
   "id": "7e505f6e",
   "metadata": {},
   "outputs": [
    {
     "data": {
      "text/plain": [
       "0        60000.0\n",
       "1       135000.0\n",
       "2       600000.0\n",
       "3       250000.0\n",
       "4       450000.0\n",
       "          ...   \n",
       "4335    409999.0\n",
       "4336    409999.0\n",
       "4337    110000.0\n",
       "4338    865000.0\n",
       "4339    225000.0\n",
       "Name: selling_price, Length: 4340, dtype: float64"
      ]
     },
     "execution_count": 60,
     "metadata": {},
     "output_type": "execute_result"
    }
   ],
   "source": [
    "np.expm1(y)"
   ]
  },
  {
   "cell_type": "code",
   "execution_count": 53,
   "id": "54a9b3fe",
   "metadata": {},
   "outputs": [],
   "source": [
    "test_array = np.zeros(len(x_train.columns))"
   ]
  },
  {
   "cell_type": "code",
   "execution_count": 55,
   "id": "b2684cea",
   "metadata": {},
   "outputs": [
    {
     "data": {
      "text/plain": [
       "34"
      ]
     },
     "execution_count": 55,
     "metadata": {},
     "output_type": "execute_result"
    }
   ],
   "source": [
    "len(x_train.columns)"
   ]
  },
  {
   "cell_type": "code",
   "execution_count": 50,
   "id": "5c3f97a1",
   "metadata": {},
   "outputs": [
    {
     "data": {
      "text/plain": [
       "34"
      ]
     },
     "execution_count": 50,
     "metadata": {},
     "output_type": "execute_result"
    }
   ],
   "source": [
    "len(test_array)"
   ]
  },
  {
   "cell_type": "code",
   "execution_count": 62,
   "id": "8504ea83",
   "metadata": {},
   "outputs": [
    {
     "data": {
      "text/plain": [
       "array([323681.53715836])"
      ]
     },
     "execution_count": 62,
     "metadata": {},
     "output_type": "execute_result"
    }
   ],
   "source": [
    "a= lr.predict([[14, 4000, 1, 0., 1, 0., 0., 0., 0., 0., 0., 0., 0., 0., 0., 0., 0.,\n",
    "       0., 0., 0., 0., 0., 0., 0., 0., 0., 0., 0., 0., 0., 0., 0., 0., 0.]])\n",
    "np.expm1(a)"
   ]
  },
  {
   "cell_type": "code",
   "execution_count": 64,
   "id": "dcc6febd",
   "metadata": {},
   "outputs": [
    {
     "data": {
      "text/plain": [
       "2023"
      ]
     },
     "execution_count": 64,
     "metadata": {},
     "output_type": "execute_result"
    }
   ],
   "source": [
    "datetime.datetime.today().year"
   ]
  },
  {
   "cell_type": "code",
   "execution_count": null,
   "id": "bbb169cf",
   "metadata": {},
   "outputs": [],
   "source": []
  }
 ],
 "metadata": {
  "kernelspec": {
   "display_name": "Python 3 (ipykernel)",
   "language": "python",
   "name": "python3"
  },
  "language_info": {
   "codemirror_mode": {
    "name": "ipython",
    "version": 3
   },
   "file_extension": ".py",
   "mimetype": "text/x-python",
   "name": "python",
   "nbconvert_exporter": "python",
   "pygments_lexer": "ipython3",
   "version": "3.11.5"
  }
 },
 "nbformat": 4,
 "nbformat_minor": 5
}
